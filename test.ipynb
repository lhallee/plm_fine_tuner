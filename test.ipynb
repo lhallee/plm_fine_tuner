{
 "cells": [
  {
   "cell_type": "code",
   "execution_count": 2,
   "metadata": {},
   "outputs": [
    {
     "name": "stdout",
     "output_type": "stream",
     "text": [
      "Collecting peft\n",
      "  Downloading peft-0.7.0-py3-none-any.whl (168 kB)\n",
      "     ---------------------------------------- 0.0/168.3 kB ? eta -:--:--\n",
      "     --------- ------------------------------ 41.0/168.3 kB ? eta -:--:--\n",
      "     -------------------------------- ----- 143.4/168.3 kB 2.1 MB/s eta 0:00:01\n",
      "     -------------------------------------- 168.3/168.3 kB 2.0 MB/s eta 0:00:00\n",
      "Requirement already satisfied: numpy>=1.17 in c:\\users\\logan\\appdata\\local\\programs\\python\\python310\\lib\\site-packages (from peft) (1.26.2)\n",
      "Requirement already satisfied: psutil in c:\\users\\logan\\appdata\\roaming\\python\\python310\\site-packages (from peft) (5.9.6)\n",
      "Requirement already satisfied: safetensors in c:\\users\\logan\\appdata\\local\\programs\\python\\python310\\lib\\site-packages (from peft) (0.4.1)\n",
      "Requirement already satisfied: tqdm in c:\\users\\logan\\appdata\\local\\programs\\python\\python310\\lib\\site-packages (from peft) (4.66.1)\n",
      "Requirement already satisfied: packaging>=20.0 in c:\\users\\logan\\appdata\\roaming\\python\\python310\\site-packages (from peft) (23.2)\n",
      "Requirement already satisfied: pyyaml in c:\\users\\logan\\appdata\\local\\programs\\python\\python310\\lib\\site-packages (from peft) (6.0.1)\n",
      "Collecting accelerate>=0.21.0\n",
      "  Downloading accelerate-0.25.0-py3-none-any.whl (265 kB)\n",
      "     ---------------------------------------- 0.0/265.7 kB ? eta -:--:--\n",
      "     ------------- ------------------------- 92.2/265.7 kB 1.8 MB/s eta 0:00:01\n",
      "     --------------------------- ---------- 194.6/265.7 kB 2.0 MB/s eta 0:00:01\n",
      "     -------------------------------------- 265.7/265.7 kB 2.0 MB/s eta 0:00:00\n",
      "Requirement already satisfied: torch>=1.13.0 in c:\\users\\logan\\appdata\\local\\programs\\python\\python310\\lib\\site-packages (from peft) (2.1.1)\n",
      "Requirement already satisfied: transformers in c:\\users\\logan\\appdata\\local\\programs\\python\\python310\\lib\\site-packages (from peft) (4.35.2)\n",
      "Requirement already satisfied: huggingface-hub>=0.17.0 in c:\\users\\logan\\appdata\\local\\programs\\python\\python310\\lib\\site-packages (from peft) (0.19.4)\n",
      "Requirement already satisfied: requests in c:\\users\\logan\\appdata\\local\\programs\\python\\python310\\lib\\site-packages (from huggingface-hub>=0.17.0->peft) (2.31.0)\n",
      "Requirement already satisfied: fsspec>=2023.5.0 in c:\\users\\logan\\appdata\\local\\programs\\python\\python310\\lib\\site-packages (from huggingface-hub>=0.17.0->peft) (2023.10.0)\n",
      "Requirement already satisfied: filelock in c:\\users\\logan\\appdata\\local\\programs\\python\\python310\\lib\\site-packages (from huggingface-hub>=0.17.0->peft) (3.13.1)\n",
      "Requirement already satisfied: typing-extensions>=3.7.4.3 in c:\\users\\logan\\appdata\\local\\programs\\python\\python310\\lib\\site-packages (from huggingface-hub>=0.17.0->peft) (4.9.0)\n",
      "Requirement already satisfied: sympy in c:\\users\\logan\\appdata\\local\\programs\\python\\python310\\lib\\site-packages (from torch>=1.13.0->peft) (1.12)\n",
      "Requirement already satisfied: networkx in c:\\users\\logan\\appdata\\local\\programs\\python\\python310\\lib\\site-packages (from torch>=1.13.0->peft) (3.2.1)\n",
      "Requirement already satisfied: jinja2 in c:\\users\\logan\\appdata\\local\\programs\\python\\python310\\lib\\site-packages (from torch>=1.13.0->peft) (3.1.2)\n",
      "Requirement already satisfied: colorama in c:\\users\\logan\\appdata\\roaming\\python\\python310\\site-packages (from tqdm->peft) (0.4.6)\n",
      "Requirement already satisfied: regex!=2019.12.17 in c:\\users\\logan\\appdata\\local\\programs\\python\\python310\\lib\\site-packages (from transformers->peft) (2023.10.3)\n",
      "Requirement already satisfied: tokenizers<0.19,>=0.14 in c:\\users\\logan\\appdata\\local\\programs\\python\\python310\\lib\\site-packages (from transformers->peft) (0.15.0)\n",
      "Requirement already satisfied: MarkupSafe>=2.0 in c:\\users\\logan\\appdata\\local\\programs\\python\\python310\\lib\\site-packages (from jinja2->torch>=1.13.0->peft) (2.1.3)\n",
      "Requirement already satisfied: idna<4,>=2.5 in c:\\users\\logan\\appdata\\local\\programs\\python\\python310\\lib\\site-packages (from requests->huggingface-hub>=0.17.0->peft) (3.6)\n",
      "Requirement already satisfied: certifi>=2017.4.17 in c:\\users\\logan\\appdata\\local\\programs\\python\\python310\\lib\\site-packages (from requests->huggingface-hub>=0.17.0->peft) (2023.11.17)\n",
      "Requirement already satisfied: charset-normalizer<4,>=2 in c:\\users\\logan\\appdata\\local\\programs\\python\\python310\\lib\\site-packages (from requests->huggingface-hub>=0.17.0->peft) (3.3.2)\n",
      "Requirement already satisfied: urllib3<3,>=1.21.1 in c:\\users\\logan\\appdata\\local\\programs\\python\\python310\\lib\\site-packages (from requests->huggingface-hub>=0.17.0->peft) (2.1.0)\n",
      "Requirement already satisfied: mpmath>=0.19 in c:\\users\\logan\\appdata\\local\\programs\\python\\python310\\lib\\site-packages (from sympy->torch>=1.13.0->peft) (1.3.0)\n",
      "Installing collected packages: accelerate, peft\n",
      "Successfully installed accelerate-0.25.0 peft-0.7.0\n",
      "Note: you may need to restart the kernel to use updated packages.\n"
     ]
    },
    {
     "name": "stderr",
     "output_type": "stream",
     "text": [
      "  WARNING: The scripts accelerate-config.exe, accelerate-estimate-memory.exe, accelerate-launch.exe and accelerate.exe are installed in 'c:\\Users\\Logan\\AppData\\Local\\Programs\\Python\\Python310\\Scripts' which is not on PATH.\n",
      "  Consider adding this directory to PATH or, if you prefer to suppress this warning, use --no-warn-script-location.\n",
      "\n",
      "[notice] A new release of pip is available: 23.0.1 -> 23.3.1\n",
      "[notice] To update, run: python.exe -m pip install --upgrade pip\n"
     ]
    }
   ],
   "source": [
    "pip install peft"
   ]
  },
  {
   "cell_type": "code",
   "execution_count": null,
   "metadata": {},
   "outputs": [],
   "source": []
  }
 ],
 "metadata": {
  "kernelspec": {
   "display_name": "Python 3",
   "language": "python",
   "name": "python3"
  },
  "language_info": {
   "codemirror_mode": {
    "name": "ipython",
    "version": 3
   },
   "file_extension": ".py",
   "mimetype": "text/x-python",
   "name": "python",
   "nbconvert_exporter": "python",
   "pygments_lexer": "ipython3",
   "version": "3.10.11"
  }
 },
 "nbformat": 4,
 "nbformat_minor": 2
}
